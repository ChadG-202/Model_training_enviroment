{
 "cells": [
  {
   "cell_type": "code",
   "execution_count": 24,
   "id": "advance-final",
   "metadata": {},
   "outputs": [],
   "source": [
    "# Imports\n",
    "import librosa, librosa.display\n",
    "import matplotlib.pyplot as plt\n",
    "import os\n",
    "import numpy as np\n",
    "import math\n",
    "import json\n",
    "import cv2\n",
    "import json\n",
    "import numpy as np\n",
    "from sklearn.model_selection import train_test_split\n",
    "import tensorflow.keras as keras\n",
    "import pickle\n",
    "import tensorflow as tf"
   ]
  },
  {
   "cell_type": "code",
   "execution_count": 25,
   "id": "federal-dance",
   "metadata": {},
   "outputs": [],
   "source": [
    "# Load data\n",
    "DATA_PATH = \"JSON/TrainData.json\"\n",
    "\n",
    "SAMPLE_RATE = 22050\n",
    "DURATION = 4\n",
    "SAMPLES_PER_TRACK = SAMPLE_RATE * DURATION\n",
    "\n",
    "def load_audio_data(data_path):\n",
    "    with open(data_path, \"r\") as fp:\n",
    "        data = json.load(fp)\n",
    "\n",
    "    X = np.array(data[\"mfcc\"])\n",
    "    y = np.array(data[\"labels\"])\n",
    "    return X, y"
   ]
  },
  {
   "cell_type": "code",
   "execution_count": 26,
   "id": "strange-gamma",
   "metadata": {},
   "outputs": [],
   "source": [
    "# Split data\n",
    "def prepare_datasets(validation_size, X, y):\n",
    "\n",
    "    X_train, X_validation, y_train, y_validation = train_test_split(X, y, test_size=validation_size)\n",
    "    X_train = X_train[..., np.newaxis]\n",
    "    X_validation = X_validation[..., np.newaxis]\n",
    "    \n",
    "    return X_train, X_validation, y_train, y_validation"
   ]
  },
  {
   "cell_type": "code",
   "execution_count": 27,
   "id": "nuclear-helena",
   "metadata": {},
   "outputs": [],
   "source": [
    "# CNN model\n",
    "def build_model(input_shape):\n",
    "    model = keras.Sequential()\n",
    "    \n",
    "    model.add(keras.layers.Conv2D(16, (3, 3), activation='relu', input_shape=input_shape))\n",
    "    model.add(keras.layers.Conv2D(16, (3, 3), activation='relu'))\n",
    "    model.add(keras.layers.MaxPooling2D((3, 3), strides=(2, 2), padding='same'))                                \n",
    "    model.add(keras.layers.Dropout(0.1))\n",
    "    \n",
    "    model.add(keras.layers.Conv2D(16, (3, 3), activation='relu')) \n",
    "    model.add(keras.layers.Conv2D(64, (3, 3), activation='relu'))   \n",
    "    model.add(keras.layers.MaxPooling2D((3, 3), strides=(2, 2), padding='same'))                                \n",
    "    model.add(keras.layers.Dropout(0.4))\n",
    "    \n",
    "    model.add(keras.layers.Flatten())\n",
    "    \n",
    "    model.add(keras.layers.Dense(192, activation='relu'))\n",
    "    model.add(keras.layers.Dropout(0.05))\n",
    "    model.add(keras.layers.Dense(128, activation='relu'))\n",
    "    model.add(keras.layers.Dropout(0.05))\n",
    "    model.add(keras.layers.Dense(256, activation='relu'))\n",
    "    model.add(keras.layers.Dropout(0.3))\n",
    "    model.add(keras.layers.Dense(256, activation='relu'))\n",
    "    model.add(keras.layers.Dropout(0.25))\n",
    "    model.add(keras.layers.Dense(160, activation='relu'))\n",
    "    model.add(keras.layers.Dropout(0.05))\n",
    "    model.add(keras.layers.Dense(480, activation='relu'))\n",
    "    model.add(keras.layers.Dropout(0.2))\n",
    "    \n",
    "    model.add(keras.layers.Dense(3, activation='softmax'))\n",
    "    \n",
    "    return model"
   ]
  },
  {
   "cell_type": "code",
   "execution_count": 28,
   "id": "rolled-scenario",
   "metadata": {},
   "outputs": [],
   "source": [
    "# Train/Test Split data\n",
    "validation_size = 0.2\n",
    "\n",
    "X_audio, y_audio = load_audio_data(DATA_PATH)\n",
    "\n",
    "# with open('X_audio.pickle', 'wb') as f:\n",
    "#     pickle.dump(X_audio, f)\n",
    "# with open('y_audio.pickle', 'wb') as f:\n",
    "#     pickle.dump(y_audio, f)\n",
    "\n",
    "X_audio_train, X_audio_validation, y_audio_train, y_audio_validation = prepare_datasets(validation_size, X_audio, y_audio)"
   ]
  },
  {
   "cell_type": "code",
   "execution_count": 29,
   "id": "fiscal-investing",
   "metadata": {},
   "outputs": [
    {
     "name": "stdout",
     "output_type": "stream",
     "text": [
      "Model: \"sequential_2\"\n",
      "_________________________________________________________________\n",
      "Layer (type)                 Output Shape              Param #   \n",
      "=================================================================\n",
      "conv2d_8 (Conv2D)            (None, 171, 11, 16)       160       \n",
      "_________________________________________________________________\n",
      "conv2d_9 (Conv2D)            (None, 169, 9, 16)        2320      \n",
      "_________________________________________________________________\n",
      "max_pooling2d_4 (MaxPooling2 (None, 85, 5, 16)         0         \n",
      "_________________________________________________________________\n",
      "dropout_16 (Dropout)         (None, 85, 5, 16)         0         \n",
      "_________________________________________________________________\n",
      "conv2d_10 (Conv2D)           (None, 83, 3, 16)         2320      \n",
      "_________________________________________________________________\n",
      "conv2d_11 (Conv2D)           (None, 81, 1, 64)         9280      \n",
      "_________________________________________________________________\n",
      "max_pooling2d_5 (MaxPooling2 (None, 41, 1, 64)         0         \n",
      "_________________________________________________________________\n",
      "dropout_17 (Dropout)         (None, 41, 1, 64)         0         \n",
      "_________________________________________________________________\n",
      "flatten_2 (Flatten)          (None, 2624)              0         \n",
      "_________________________________________________________________\n",
      "dense_14 (Dense)             (None, 192)               504000    \n",
      "_________________________________________________________________\n",
      "dropout_18 (Dropout)         (None, 192)               0         \n",
      "_________________________________________________________________\n",
      "dense_15 (Dense)             (None, 128)               24704     \n",
      "_________________________________________________________________\n",
      "dropout_19 (Dropout)         (None, 128)               0         \n",
      "_________________________________________________________________\n",
      "dense_16 (Dense)             (None, 256)               33024     \n",
      "_________________________________________________________________\n",
      "dropout_20 (Dropout)         (None, 256)               0         \n",
      "_________________________________________________________________\n",
      "dense_17 (Dense)             (None, 256)               65792     \n",
      "_________________________________________________________________\n",
      "dropout_21 (Dropout)         (None, 256)               0         \n",
      "_________________________________________________________________\n",
      "dense_18 (Dense)             (None, 160)               41120     \n",
      "_________________________________________________________________\n",
      "dropout_22 (Dropout)         (None, 160)               0         \n",
      "_________________________________________________________________\n",
      "dense_19 (Dense)             (None, 480)               77280     \n",
      "_________________________________________________________________\n",
      "dropout_23 (Dropout)         (None, 480)               0         \n",
      "_________________________________________________________________\n",
      "dense_20 (Dense)             (None, 3)                 1443      \n",
      "=================================================================\n",
      "Total params: 761,443\n",
      "Trainable params: 761,443\n",
      "Non-trainable params: 0\n",
      "_________________________________________________________________\n",
      "Epoch 1/15\n",
      "126/126 [==============================] - 2s 11ms/step - loss: 1.2475 - accuracy: 0.3472 - val_loss: 1.1091 - val_accuracy: 0.4048\n",
      "Epoch 2/15\n",
      "126/126 [==============================] - 1s 9ms/step - loss: 0.9841 - accuracy: 0.4921 - val_loss: 0.9780 - val_accuracy: 0.4206\n",
      "Epoch 3/15\n",
      "126/126 [==============================] - 1s 9ms/step - loss: 0.6297 - accuracy: 0.7163 - val_loss: 0.2967 - val_accuracy: 0.9286\n",
      "Epoch 4/15\n",
      "126/126 [==============================] - 1s 10ms/step - loss: 0.2836 - accuracy: 0.9187 - val_loss: 0.0098 - val_accuracy: 1.0000\n",
      "Epoch 5/15\n",
      "126/126 [==============================] - 1s 10ms/step - loss: 0.1583 - accuracy: 0.9623 - val_loss: 0.0574 - val_accuracy: 0.9841\n",
      "Epoch 6/15\n",
      "126/126 [==============================] - 1s 10ms/step - loss: 0.0269 - accuracy: 0.9901 - val_loss: 0.0047 - val_accuracy: 1.0000\n",
      "Epoch 7/15\n",
      "126/126 [==============================] - 1s 10ms/step - loss: 0.0089 - accuracy: 0.9940 - val_loss: 0.0693 - val_accuracy: 0.9762\n",
      "Epoch 8/15\n",
      "126/126 [==============================] - 1s 10ms/step - loss: 0.1026 - accuracy: 0.9821 - val_loss: 0.0509 - val_accuracy: 0.9841\n",
      "Epoch 9/15\n",
      "126/126 [==============================] - 1s 10ms/step - loss: 0.0289 - accuracy: 0.9901 - val_loss: 0.0117 - val_accuracy: 1.0000\n",
      "Epoch 10/15\n",
      "126/126 [==============================] - 1s 10ms/step - loss: 0.0089 - accuracy: 0.9980 - val_loss: 0.0013 - val_accuracy: 1.0000\n",
      "Epoch 11/15\n",
      "126/126 [==============================] - 1s 10ms/step - loss: 4.4410e-04 - accuracy: 1.0000 - val_loss: 0.0022 - val_accuracy: 1.0000\n",
      "Epoch 12/15\n",
      "126/126 [==============================] - 1s 10ms/step - loss: 3.7994e-04 - accuracy: 1.0000 - val_loss: 0.0014 - val_accuracy: 1.0000\n",
      "Epoch 13/15\n",
      "126/126 [==============================] - 1s 10ms/step - loss: 0.0686 - accuracy: 0.9901 - val_loss: 0.0799 - val_accuracy: 0.9841\n",
      "Epoch 14/15\n",
      "126/126 [==============================] - 1s 10ms/step - loss: 0.0748 - accuracy: 0.9782 - val_loss: 0.0240 - val_accuracy: 0.9921\n",
      "Epoch 15/15\n",
      "126/126 [==============================] - 1s 10ms/step - loss: 0.0514 - accuracy: 0.9921 - val_loss: 0.0721 - val_accuracy: 0.9841\n"
     ]
    }
   ],
   "source": [
    "# Audio train\n",
    "audio_input_shape = (X_audio_train.shape[1], X_audio_train.shape[2], X_audio_train.shape[3])\n",
    "audio_model = build_model(audio_input_shape)\n",
    "\n",
    "audio_optimizer = keras.optimizers.Adam(learning_rate=0.00110654178783952)\n",
    "\n",
    "audio_model.compile(optimizer=audio_optimizer,\n",
    "             loss=\"sparse_categorical_crossentropy\",\n",
    "             metrics=[\"accuracy\"])\n",
    "\n",
    "audio_model.summary()\n",
    "\n",
    "audio_history = audio_model.fit(X_audio_train, y_audio_train, batch_size=4, epochs=15, validation_data=(X_audio_validation, y_audio_validation))"
   ]
  },
  {
   "cell_type": "code",
   "execution_count": 30,
   "id": "friendly-client",
   "metadata": {},
   "outputs": [
    {
     "data": {
      "text/plain": [
       "Text(0.5, 1.0, 'Audio Accuracy Curves')"
      ]
     },
     "execution_count": 30,
     "metadata": {},
     "output_type": "execute_result"
    },
    {
     "data": {
      "image/png": "[encoded data removed]",
      "text/plain": [
       "<Figure size 576x432 with 1 Axes>"
      ]
     },
     "metadata": {
      "needs_background": "light"
     },
     "output_type": "display_data"
    },
    {
     "data": {
      "image/png": "[encoded data removed]",
      "text/plain": [
       "<Figure size 576x432 with 1 Axes>"
      ]
     },
     "metadata": {
      "needs_background": "light"
     },
     "output_type": "display_data"
    }
   ],
   "source": [
    "#Audio Loss Curves\n",
    "plt.figure(figsize=[8,6])\n",
    "plt.plot(audio_history.history['loss'],'r',linewidth=3.0)\n",
    "plt.plot(audio_history.history['val_loss'],'b',linewidth=3.0)\n",
    "plt.legend(['Training loss', 'Validation Loss'],fontsize=18)\n",
    "plt.xlabel('Epochs ',fontsize=16)\n",
    "plt.ylabel('Loss',fontsize=16)\n",
    "plt.title('Audio Loss Curves',fontsize=16)\n",
    "\n",
    "#Audio Accuracy Curves\n",
    "plt.figure(figsize=[8,6])\n",
    "plt.plot(audio_history.history['accuracy'],'r',linewidth=3.0)\n",
    "plt.plot(audio_history.history['val_accuracy'],'b',linewidth=3.0)\n",
    "plt.legend(['Training Accuracy', 'Validation Accuracy'],fontsize=18)\n",
    "plt.xlabel('Epochs ',fontsize=16)\n",
    "plt.ylabel('Accuracy',fontsize=16)\n",
    "plt.title('Audio Accuracy Curves',fontsize=16)"
   ]
  },
  {
   "cell_type": "code",
   "execution_count": 31,
   "id": "worth-heaven",
   "metadata": {},
   "outputs": [
    {
     "name": "stdout",
     "output_type": "stream",
     "text": [
      "INFO:tensorflow:Assets written to: Models/CNNaudioClassifierV1.model\\assets\n"
     ]
    }
   ],
   "source": [
    "# Save model\n",
    "audio_model.save(\"Models/CNNaudioClassifierV1.model\")"
   ]
  },
  {
   "cell_type": "code",
   "execution_count": 32,
   "id": "general-korean",
   "metadata": {},
   "outputs": [],
   "source": [
    "audio_model = tf.keras.models.load_model('Models/CNNaudioClassifierV1.model')"
   ]
  },
  {
   "cell_type": "code",
   "execution_count": 33,
   "id": "narrative-panel",
   "metadata": {},
   "outputs": [
    {
     "name": "stdout",
     "output_type": "stream",
     "text": [
      "3/3 [==============================] - 0s 9ms/step - loss: 1.3355 - accuracy: 0.8352\n",
      "Audio test set accuracy: 83.51648449897766%\n"
     ]
    }
   ],
   "source": [
    "# Retrive data\n",
    "X, y = load_audio_data(\"JSON/Test_audio.json\")\n",
    "\n",
    "# Fit image data\n",
    "X = X[..., np.newaxis]\n",
    "audio_test_error, audio_test_accuracy = audio_model.evaluate(X, y, verbose=1)\n",
    "print(\"Audio test set accuracy: {}%\".format(audio_test_accuracy*100))"
   ]
  },
  {
   "cell_type": "code",
   "execution_count": 34,
   "id": "knowing-maldives",
   "metadata": {},
   "outputs": [
    {
     "name": "stdout",
     "output_type": "stream",
     "text": [
      "(-1, 173, 13, 1)\n",
      "[[1.0000000e+00 4.7408536e-15 1.2713004e-14]]\n"
     ]
    }
   ],
   "source": [
    "s = (-1, X.shape[1], X.shape[2], 1)\n",
    "print(s)\n",
    "# Fit audio data\n",
    "a = X[0].reshape(s)\n",
    "\n",
    "# Predict audio\n",
    "audio_predictions = audio_model.predict(a)\n",
    "print(audio_predictions)"
   ]
  },
  {
   "cell_type": "code",
   "execution_count": null,
   "id": "driving-attention",
   "metadata": {},
   "outputs": [],
   "source": []
  },
  {
   "cell_type": "code",
   "execution_count": null,
   "id": "egyptian-aruba",
   "metadata": {},
   "outputs": [],
   "source": []
  },
  {
   "cell_type": "code",
   "execution_count": null,
   "id": "endless-marking",
   "metadata": {},
   "outputs": [],
   "source": []
  },
  {
   "cell_type": "code",
   "execution_count": null,
   "id": "critical-stephen",
   "metadata": {},
   "outputs": [],
   "source": []
  }
 ],
 "metadata": {
  "kernelspec": {
   "display_name": "Python 3",
   "language": "python",
   "name": "python3"
  },
  "language_info": {
   "codemirror_mode": {
    "name": "ipython",
    "version": 3
   },
   "file_extension": ".py",
   "mimetype": "text/x-python",
   "name": "python",
   "nbconvert_exporter": "python",
   "pygments_lexer": "ipython3",
   "version": "3.8.6"
  }
 },
 "nbformat": 4,
 "nbformat_minor": 5
}
