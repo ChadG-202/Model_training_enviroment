{
 "cells": [
  {
   "cell_type": "code",
   "execution_count": 1,
   "id": "responsible-chapel",
   "metadata": {},
   "outputs": [],
   "source": [
    "# Imports\n",
    "import librosa, librosa.display\n",
    "import matplotlib.pyplot as plt\n",
    "import os\n",
    "import numpy as np\n",
    "import math\n",
    "import json\n",
    "import cv2\n",
    "import json\n",
    "import numpy as np\n",
    "from sklearn.model_selection import train_test_split\n",
    "import tensorflow.keras as keras\n",
    "import pickle\n",
    "import tensorflow as tf"
   ]
  },
  {
   "cell_type": "code",
   "execution_count": 2,
   "id": "junior-motorcycle",
   "metadata": {},
   "outputs": [],
   "source": [
    "# Load data\n",
    "DATA_PATH = \"JSON/Train_image.json\"\n",
    "IMG_SIZE = 48\n",
    "\n",
    "def load_image_data(data_path):\n",
    "    with open(data_path, \"r\") as fp:\n",
    "        data = json.load(fp)\n",
    "        \n",
    "    X = np.array(data[\"image\"]).reshape(-1, IMG_SIZE, IMG_SIZE, 1)\n",
    "    y = np.array(data[\"labels\"])\n",
    "    return X, y"
   ]
  },
  {
   "cell_type": "code",
   "execution_count": 3,
   "id": "coupled-hands",
   "metadata": {},
   "outputs": [],
   "source": [
    "# Split data\n",
    "def prepare_datasets(validation_size, X, y):\n",
    "\n",
    "    X_train, X_validation, y_train, y_validation = train_test_split(X, y, test_size=validation_size)\n",
    "    \n",
    "    return X_train, X_validation, y_train, y_validation"
   ]
  },
  {
   "cell_type": "code",
   "execution_count": 4,
   "id": "pending-morris",
   "metadata": {},
   "outputs": [],
   "source": [
    "# CNN model\n",
    "def build_model(input_shape):\n",
    "    model = keras.Sequential()\n",
    "    \n",
    "    model.add(keras.layers.Conv2D(32, (3, 3), activation='relu', input_shape=input_shape))\n",
    "    model.add(keras.layers.Conv2D(32, (3, 3), activation='relu'))\n",
    "    model.add(keras.layers.MaxPooling2D((3, 3), strides=(2, 2), padding='same'))                                \n",
    "    model.add(keras.layers.Dropout(0.05))  \n",
    "    \n",
    "    model.add(keras.layers.Conv2D(16, (3, 3), activation='relu')) \n",
    "    model.add(keras.layers.Conv2D(64, (3, 3), activation='relu'))   \n",
    "    model.add(keras.layers.MaxPooling2D((3, 3), strides=(2, 2), padding='same'))                                \n",
    "    model.add(keras.layers.Dropout(0.35))\n",
    "    \n",
    "    model.add(keras.layers.Flatten())\n",
    "\n",
    "    model.add(keras.layers.Dense(480, activation='relu'))\n",
    "    model.add(keras.layers.Dropout(0.15))\n",
    "    \n",
    "    model.add(keras.layers.Dense(3, activation='softmax'))\n",
    "    \n",
    "    return model"
   ]
  },
  {
   "cell_type": "code",
   "execution_count": 5,
   "id": "human-destination",
   "metadata": {},
   "outputs": [],
   "source": [
    "# Train/Test Split data\n",
    "validation_size = 0.2\n",
    "\n",
    "X_image, y_image = load_image_data(DATA_PATH)\n",
    "\n",
    "with open('X_image.pickle', 'wb') as f:\n",
    "    pickle.dump(X_image, f)\n",
    "with open('y_image.pickle', 'wb') as f:\n",
    "    pickle.dump(y_image, f)\n",
    "\n",
    "\n",
    "X_image_train, X_image_validation, y_image_train, y_image_validation = prepare_datasets(validation_size, X_image, y_image)"
   ]
  },
  {
   "cell_type": "code",
   "execution_count": 6,
   "id": "invalid-squad",
   "metadata": {},
   "outputs": [
    {
     "name": "stdout",
     "output_type": "stream",
     "text": [
      "Model: \"sequential\"\n",
      "_________________________________________________________________\n",
      "Layer (type)                 Output Shape              Param #   \n",
      "=================================================================\n",
      "conv2d (Conv2D)              (None, 46, 46, 32)        320       \n",
      "_________________________________________________________________\n",
      "conv2d_1 (Conv2D)            (None, 44, 44, 32)        9248      \n",
      "_________________________________________________________________\n",
      "max_pooling2d (MaxPooling2D) (None, 22, 22, 32)        0         \n",
      "_________________________________________________________________\n",
      "dropout (Dropout)            (None, 22, 22, 32)        0         \n",
      "_________________________________________________________________\n",
      "conv2d_2 (Conv2D)            (None, 20, 20, 16)        4624      \n",
      "_________________________________________________________________\n",
      "conv2d_3 (Conv2D)            (None, 18, 18, 64)        9280      \n",
      "_________________________________________________________________\n",
      "max_pooling2d_1 (MaxPooling2 (None, 9, 9, 64)          0         \n",
      "_________________________________________________________________\n",
      "dropout_1 (Dropout)          (None, 9, 9, 64)          0         \n",
      "_________________________________________________________________\n",
      "flatten (Flatten)            (None, 5184)              0         \n",
      "_________________________________________________________________\n",
      "dense (Dense)                (None, 480)               2488800   \n",
      "_________________________________________________________________\n",
      "dropout_2 (Dropout)          (None, 480)               0         \n",
      "_________________________________________________________________\n",
      "dense_1 (Dense)              (None, 3)                 1443      \n",
      "=================================================================\n",
      "Total params: 2,513,715\n",
      "Trainable params: 2,513,715\n",
      "Non-trainable params: 0\n",
      "_________________________________________________________________\n",
      "Epoch 1/15\n",
      "1320/1320 [==============================] - 22s 16ms/step - loss: 0.5462 - accuracy: 0.7436 - val_loss: 0.1343 - val_accuracy: 0.9636\n",
      "Epoch 2/15\n",
      "1320/1320 [==============================] - 21s 16ms/step - loss: 0.1195 - accuracy: 0.9598 - val_loss: 0.1397 - val_accuracy: 0.9470\n",
      "Epoch 3/15\n",
      "1320/1320 [==============================] - 21s 16ms/step - loss: 0.0621 - accuracy: 0.9788 - val_loss: 0.0426 - val_accuracy: 0.9879\n",
      "Epoch 4/15\n",
      "1320/1320 [==============================] - 21s 16ms/step - loss: 0.0448 - accuracy: 0.9894 - val_loss: 0.0248 - val_accuracy: 0.9909\n",
      "Epoch 5/15\n",
      "1320/1320 [==============================] - 21s 16ms/step - loss: 0.0257 - accuracy: 0.9924 - val_loss: 0.0360 - val_accuracy: 0.9848\n",
      "Epoch 6/15\n",
      "1320/1320 [==============================] - 21s 16ms/step - loss: 0.0249 - accuracy: 0.9909 - val_loss: 0.0188 - val_accuracy: 0.9924\n",
      "Epoch 7/15\n",
      "1320/1320 [==============================] - 21s 16ms/step - loss: 0.0221 - accuracy: 0.9917 - val_loss: 0.0079 - val_accuracy: 0.9970\n",
      "Epoch 8/15\n",
      "1320/1320 [==============================] - 21s 16ms/step - loss: 0.0159 - accuracy: 0.9951 - val_loss: 0.0049 - val_accuracy: 0.9985\n",
      "Epoch 9/15\n",
      "1320/1320 [==============================] - 21s 16ms/step - loss: 0.0142 - accuracy: 0.9951 - val_loss: 0.0184 - val_accuracy: 0.9924\n",
      "Epoch 10/15\n",
      "1320/1320 [==============================] - 21s 16ms/step - loss: 0.0110 - accuracy: 0.9962 - val_loss: 0.0340 - val_accuracy: 0.9864\n",
      "Epoch 11/15\n",
      "1320/1320 [==============================] - 21s 16ms/step - loss: 0.0095 - accuracy: 0.9973 - val_loss: 0.0093 - val_accuracy: 0.9955\n",
      "Epoch 12/15\n",
      "1320/1320 [==============================] - 21s 16ms/step - loss: 0.0080 - accuracy: 0.9981 - val_loss: 0.0336 - val_accuracy: 0.9848\n",
      "Epoch 13/15\n",
      "1320/1320 [==============================] - 21s 16ms/step - loss: 0.0075 - accuracy: 0.9970 - val_loss: 0.0070 - val_accuracy: 0.9970\n",
      "Epoch 14/15\n",
      "1320/1320 [==============================] - 21s 16ms/step - loss: 0.0020 - accuracy: 0.9996 - val_loss: 0.0034 - val_accuracy: 0.9985\n",
      "Epoch 15/15\n",
      "1320/1320 [==============================] - 21s 16ms/step - loss: 0.0061 - accuracy: 0.9970 - val_loss: 0.0134 - val_accuracy: 0.9955\n"
     ]
    }
   ],
   "source": [
    "# Image train\n",
    "X_image_train = X_image_train.astype(\"float32\")/255.0\n",
    "X_image_validation = X_image_validation.astype(\"float32\")/255.0\n",
    "\n",
    "image_input_shape = (X_image_train.shape[1:])\n",
    "image_model = build_model(image_input_shape)\n",
    "\n",
    "image_optimizer = keras.optimizers.Adam(learning_rate=0.00014023399602325874)\n",
    "\n",
    "image_model.compile(optimizer=image_optimizer,\n",
    "             loss=\"sparse_categorical_crossentropy\",\n",
    "             metrics=[\"accuracy\"])\n",
    "\n",
    "image_model.summary()\n",
    "\n",
    "image_history = image_model.fit(X_image_train, y_image_train, batch_size=2, epochs=15, validation_data=(X_image_validation, y_image_validation))"
   ]
  },
  {
   "cell_type": "code",
   "execution_count": 7,
   "id": "vocational-whole",
   "metadata": {},
   "outputs": [
    {
     "data": {
      "text/plain": [
       "Text(0.5, 1.0, 'Image Accuracy Curves')"
      ]
     },
     "execution_count": 7,
     "metadata": {},
     "output_type": "execute_result"
    },
    {
     "data": {
      "image/png": "[encoded data removed]",
      "text/plain": [
       "<Figure size 576x432 with 1 Axes>"
      ]
     },
     "metadata": {
      "needs_background": "light"
     },
     "output_type": "display_data"
    },
    {
     "data": {
      "image/png": "[encoded data removed]",
      "text/plain": [
       "<Figure size 576x432 with 1 Axes>"
      ]
     },
     "metadata": {
      "needs_background": "light"
     },
     "output_type": "display_data"
    }
   ],
   "source": [
    "#Image Loss Curves\n",
    "plt.figure(figsize=[8,6])\n",
    "plt.plot(image_history.history['loss'],'r',linewidth=3.0)\n",
    "plt.plot(image_history.history['val_loss'],'b',linewidth=3.0)\n",
    "plt.legend(['Training loss', 'Validation Loss'],fontsize=18)\n",
    "plt.xlabel('Epochs ',fontsize=16)\n",
    "plt.ylabel('Loss',fontsize=16)\n",
    "plt.title('Image Loss Curves',fontsize=16)\n",
    "\n",
    "#Image Accuracy Curves\n",
    "plt.figure(figsize=[8,6])\n",
    "plt.plot(image_history.history['accuracy'],'r',linewidth=3.0)\n",
    "plt.plot(image_history.history['val_accuracy'],'b',linewidth=3.0)\n",
    "plt.legend(['Training Accuracy', 'Validation Accuracy'],fontsize=18)\n",
    "plt.xlabel('Epochs ',fontsize=16)\n",
    "plt.ylabel('Accuracy',fontsize=16)\n",
    "plt.title('Image Accuracy Curves',fontsize=16)"
   ]
  },
  {
   "cell_type": "code",
   "execution_count": 8,
   "id": "plain-brake",
   "metadata": {},
   "outputs": [
    {
     "name": "stdout",
     "output_type": "stream",
     "text": [
      "INFO:tensorflow:Assets written to: Models/CNNimageClassifierV1.model\\assets\n"
     ]
    }
   ],
   "source": [
    "# Save model\n",
    "image_model.save(\"Models/CNNimageClassifierV1.model\")"
   ]
  },
  {
   "cell_type": "code",
   "execution_count": 9,
   "id": "planned-remainder",
   "metadata": {},
   "outputs": [],
   "source": [
    "image_model = tf.keras.models.load_model('Models/CNNimageClassifierV1.model')"
   ]
  },
  {
   "cell_type": "code",
   "execution_count": 10,
   "id": "cellular-times",
   "metadata": {},
   "outputs": [
    {
     "name": "stdout",
     "output_type": "stream",
     "text": [
      "3/3 [==============================] - 0s 13ms/step - loss: 0.0050 - accuracy: 1.0000\n",
      "Image test set accuracy: 100.0%\n"
     ]
    }
   ],
   "source": [
    "# Retrive data\n",
    "X, y = load_image_data(\"JSON/Test_image.json\")\n",
    "\n",
    "# Fit image data\n",
    "X = X.astype(\"float32\")/255.0\n",
    "image_test_error, image_test_accuracy = image_model.evaluate(X, y, verbose=1)\n",
    "print(\"Image test set accuracy: {}%\".format(image_test_accuracy*100))"
   ]
  },
  {
   "cell_type": "code",
   "execution_count": null,
   "id": "broadband-ranking",
   "metadata": {},
   "outputs": [],
   "source": []
  },
  {
   "cell_type": "code",
   "execution_count": null,
   "id": "million-adventure",
   "metadata": {},
   "outputs": [],
   "source": []
  }
 ],
 "metadata": {
  "kernelspec": {
   "display_name": "Python 3",
   "language": "python",
   "name": "python3"
  },
  "language_info": {
   "codemirror_mode": {
    "name": "ipython",
    "version": 3
   },
   "file_extension": ".py",
   "mimetype": "text/x-python",
   "name": "python",
   "nbconvert_exporter": "python",
   "pygments_lexer": "ipython3",
   "version": "3.8.6"
  }
 },
 "nbformat": 4,
 "nbformat_minor": 5
}
